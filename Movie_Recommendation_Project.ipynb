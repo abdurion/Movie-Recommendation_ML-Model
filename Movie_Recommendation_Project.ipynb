{
 "cells": [
  {
   "cell_type": "markdown",
   "id": "29b87b18",
   "metadata": {},
   "source": [
    "# Recommendation Systems\n",
    "\n",
    "Usage\n",
    "Amazon, Netflix, Youtube, and many other big corporate companies use this machine learning algorithm to make sure they display what might be an interest for you.\n",
    "\n",
    "There are two kind of recommendations, Content-based recommendations, and Collaborative-based recommendations. and there's a third which is a combination of both.\n",
    "\n",
    "Content-based is self explanatory, you get recommendations based on your recent activities.\n",
    "Collaborative-based is when we look for users with similar interests or habits and recommend the same items to them.\n",
    "![content-filtering](https://i.imgur.com/TJkz2Oh.png)\n"
   ]
  },
  {
   "cell_type": "markdown",
   "id": "90e14f71",
   "metadata": {},
   "source": [
    "# Content-Based Movie Recommendations (Project)"
   ]
  },
  {
   "cell_type": "code",
   "execution_count": 1,
   "id": "15003ade",
   "metadata": {},
   "outputs": [],
   "source": [
    "# EDA\n",
    "import numpy as np\n",
    "import pandas as pd\n",
    "\n",
    "# Visualization\n",
    "import matplotlib.pyplot as plt\n",
    "import seaborn as sns\n",
    "\n",
    "# Hide Warnings\n",
    "import warnings\n",
    "warnings.filterwarnings('ignore')\n",
    "\n",
    "%matplotlib inline"
   ]
  },
  {
   "cell_type": "code",
   "execution_count": 2,
   "id": "8596a3b6",
   "metadata": {
    "scrolled": false
   },
   "outputs": [
    {
     "data": {
      "text/html": [
       "<div>\n",
       "<style scoped>\n",
       "    .dataframe tbody tr th:only-of-type {\n",
       "        vertical-align: middle;\n",
       "    }\n",
       "\n",
       "    .dataframe tbody tr th {\n",
       "        vertical-align: top;\n",
       "    }\n",
       "\n",
       "    .dataframe thead th {\n",
       "        text-align: right;\n",
       "    }\n",
       "</style>\n",
       "<table border=\"1\" class=\"dataframe\">\n",
       "  <thead>\n",
       "    <tr style=\"text-align: right;\">\n",
       "      <th></th>\n",
       "      <th>imdb_title_id</th>\n",
       "      <th>title</th>\n",
       "      <th>original_title</th>\n",
       "      <th>year</th>\n",
       "      <th>date_published</th>\n",
       "      <th>genre</th>\n",
       "      <th>duration</th>\n",
       "      <th>country</th>\n",
       "      <th>language</th>\n",
       "      <th>director</th>\n",
       "      <th>...</th>\n",
       "      <th>actors</th>\n",
       "      <th>description</th>\n",
       "      <th>avg_vote</th>\n",
       "      <th>votes</th>\n",
       "      <th>budget</th>\n",
       "      <th>usa_gross_income</th>\n",
       "      <th>worlwide_gross_income</th>\n",
       "      <th>metascore</th>\n",
       "      <th>reviews_from_users</th>\n",
       "      <th>reviews_from_critics</th>\n",
       "    </tr>\n",
       "  </thead>\n",
       "  <tbody>\n",
       "    <tr>\n",
       "      <th>0</th>\n",
       "      <td>tt0000009</td>\n",
       "      <td>Miss Jerry</td>\n",
       "      <td>Miss Jerry</td>\n",
       "      <td>1894</td>\n",
       "      <td>1894-10-09</td>\n",
       "      <td>Romance</td>\n",
       "      <td>45</td>\n",
       "      <td>USA</td>\n",
       "      <td>None</td>\n",
       "      <td>Alexander Black</td>\n",
       "      <td>...</td>\n",
       "      <td>Blanche Bayliss, William Courtenay, Chauncey D...</td>\n",
       "      <td>The adventures of a female reporter in the 1890s.</td>\n",
       "      <td>5.9</td>\n",
       "      <td>154</td>\n",
       "      <td>NaN</td>\n",
       "      <td>NaN</td>\n",
       "      <td>NaN</td>\n",
       "      <td>NaN</td>\n",
       "      <td>1.0</td>\n",
       "      <td>2.0</td>\n",
       "    </tr>\n",
       "    <tr>\n",
       "      <th>1</th>\n",
       "      <td>tt0000574</td>\n",
       "      <td>The Story of the Kelly Gang</td>\n",
       "      <td>The Story of the Kelly Gang</td>\n",
       "      <td>1906</td>\n",
       "      <td>1906-12-26</td>\n",
       "      <td>Biography, Crime, Drama</td>\n",
       "      <td>70</td>\n",
       "      <td>Australia</td>\n",
       "      <td>None</td>\n",
       "      <td>Charles Tait</td>\n",
       "      <td>...</td>\n",
       "      <td>Elizabeth Tait, John Tait, Norman Campbell, Be...</td>\n",
       "      <td>True story of notorious Australian outlaw Ned ...</td>\n",
       "      <td>6.1</td>\n",
       "      <td>589</td>\n",
       "      <td>$ 2250</td>\n",
       "      <td>NaN</td>\n",
       "      <td>NaN</td>\n",
       "      <td>NaN</td>\n",
       "      <td>7.0</td>\n",
       "      <td>7.0</td>\n",
       "    </tr>\n",
       "    <tr>\n",
       "      <th>2</th>\n",
       "      <td>tt0001892</td>\n",
       "      <td>Den sorte drøm</td>\n",
       "      <td>Den sorte drøm</td>\n",
       "      <td>1911</td>\n",
       "      <td>1911-08-19</td>\n",
       "      <td>Drama</td>\n",
       "      <td>53</td>\n",
       "      <td>Germany, Denmark</td>\n",
       "      <td>NaN</td>\n",
       "      <td>Urban Gad</td>\n",
       "      <td>...</td>\n",
       "      <td>Asta Nielsen, Valdemar Psilander, Gunnar Helse...</td>\n",
       "      <td>Two men of high rank are both wooing the beaut...</td>\n",
       "      <td>5.8</td>\n",
       "      <td>188</td>\n",
       "      <td>NaN</td>\n",
       "      <td>NaN</td>\n",
       "      <td>NaN</td>\n",
       "      <td>NaN</td>\n",
       "      <td>5.0</td>\n",
       "      <td>2.0</td>\n",
       "    </tr>\n",
       "    <tr>\n",
       "      <th>3</th>\n",
       "      <td>tt0002101</td>\n",
       "      <td>Cleopatra</td>\n",
       "      <td>Cleopatra</td>\n",
       "      <td>1912</td>\n",
       "      <td>1912-11-13</td>\n",
       "      <td>Drama, History</td>\n",
       "      <td>100</td>\n",
       "      <td>USA</td>\n",
       "      <td>English</td>\n",
       "      <td>Charles L. Gaskill</td>\n",
       "      <td>...</td>\n",
       "      <td>Helen Gardner, Pearl Sindelar, Miss Fielding, ...</td>\n",
       "      <td>The fabled queen of Egypt's affair with Roman ...</td>\n",
       "      <td>5.2</td>\n",
       "      <td>446</td>\n",
       "      <td>$ 45000</td>\n",
       "      <td>NaN</td>\n",
       "      <td>NaN</td>\n",
       "      <td>NaN</td>\n",
       "      <td>25.0</td>\n",
       "      <td>3.0</td>\n",
       "    </tr>\n",
       "    <tr>\n",
       "      <th>4</th>\n",
       "      <td>tt0002130</td>\n",
       "      <td>L'Inferno</td>\n",
       "      <td>L'Inferno</td>\n",
       "      <td>1911</td>\n",
       "      <td>1911-03-06</td>\n",
       "      <td>Adventure, Drama, Fantasy</td>\n",
       "      <td>68</td>\n",
       "      <td>Italy</td>\n",
       "      <td>Italian</td>\n",
       "      <td>Francesco Bertolini, Adolfo Padovan</td>\n",
       "      <td>...</td>\n",
       "      <td>Salvatore Papa, Arturo Pirovano, Giuseppe de L...</td>\n",
       "      <td>Loosely adapted from Dante's Divine Comedy and...</td>\n",
       "      <td>7.0</td>\n",
       "      <td>2237</td>\n",
       "      <td>NaN</td>\n",
       "      <td>NaN</td>\n",
       "      <td>NaN</td>\n",
       "      <td>NaN</td>\n",
       "      <td>31.0</td>\n",
       "      <td>14.0</td>\n",
       "    </tr>\n",
       "  </tbody>\n",
       "</table>\n",
       "<p>5 rows × 22 columns</p>\n",
       "</div>"
      ],
      "text/plain": [
       "  imdb_title_id                        title               original_title  \\\n",
       "0     tt0000009                   Miss Jerry                   Miss Jerry   \n",
       "1     tt0000574  The Story of the Kelly Gang  The Story of the Kelly Gang   \n",
       "2     tt0001892               Den sorte drøm               Den sorte drøm   \n",
       "3     tt0002101                    Cleopatra                    Cleopatra   \n",
       "4     tt0002130                    L'Inferno                    L'Inferno   \n",
       "\n",
       "   year date_published                      genre  duration           country  \\\n",
       "0  1894     1894-10-09                    Romance        45               USA   \n",
       "1  1906     1906-12-26    Biography, Crime, Drama        70         Australia   \n",
       "2  1911     1911-08-19                      Drama        53  Germany, Denmark   \n",
       "3  1912     1912-11-13             Drama, History       100               USA   \n",
       "4  1911     1911-03-06  Adventure, Drama, Fantasy        68             Italy   \n",
       "\n",
       "  language                             director  ...  \\\n",
       "0     None                      Alexander Black  ...   \n",
       "1     None                         Charles Tait  ...   \n",
       "2      NaN                            Urban Gad  ...   \n",
       "3  English                   Charles L. Gaskill  ...   \n",
       "4  Italian  Francesco Bertolini, Adolfo Padovan  ...   \n",
       "\n",
       "                                              actors  \\\n",
       "0  Blanche Bayliss, William Courtenay, Chauncey D...   \n",
       "1  Elizabeth Tait, John Tait, Norman Campbell, Be...   \n",
       "2  Asta Nielsen, Valdemar Psilander, Gunnar Helse...   \n",
       "3  Helen Gardner, Pearl Sindelar, Miss Fielding, ...   \n",
       "4  Salvatore Papa, Arturo Pirovano, Giuseppe de L...   \n",
       "\n",
       "                                         description avg_vote votes   budget  \\\n",
       "0  The adventures of a female reporter in the 1890s.      5.9   154      NaN   \n",
       "1  True story of notorious Australian outlaw Ned ...      6.1   589   $ 2250   \n",
       "2  Two men of high rank are both wooing the beaut...      5.8   188      NaN   \n",
       "3  The fabled queen of Egypt's affair with Roman ...      5.2   446  $ 45000   \n",
       "4  Loosely adapted from Dante's Divine Comedy and...      7.0  2237      NaN   \n",
       "\n",
       "   usa_gross_income worlwide_gross_income metascore reviews_from_users  \\\n",
       "0               NaN                   NaN       NaN                1.0   \n",
       "1               NaN                   NaN       NaN                7.0   \n",
       "2               NaN                   NaN       NaN                5.0   \n",
       "3               NaN                   NaN       NaN               25.0   \n",
       "4               NaN                   NaN       NaN               31.0   \n",
       "\n",
       "   reviews_from_critics  \n",
       "0                   2.0  \n",
       "1                   7.0  \n",
       "2                   2.0  \n",
       "3                   3.0  \n",
       "4                  14.0  \n",
       "\n",
       "[5 rows x 22 columns]"
      ]
     },
     "execution_count": 2,
     "metadata": {},
     "output_type": "execute_result"
    }
   ],
   "source": [
    "df = pd.read_csv('data/IMDb movies.csv')\n",
    "df.head()"
   ]
  },
  {
   "cell_type": "code",
   "execution_count": 3,
   "id": "3e34d251",
   "metadata": {},
   "outputs": [
    {
     "name": "stdout",
     "output_type": "stream",
     "text": [
      "<class 'pandas.core.frame.DataFrame'>\n",
      "RangeIndex: 85855 entries, 0 to 85854\n",
      "Data columns (total 22 columns):\n",
      " #   Column                 Non-Null Count  Dtype  \n",
      "---  ------                 --------------  -----  \n",
      " 0   imdb_title_id          85855 non-null  object \n",
      " 1   title                  85855 non-null  object \n",
      " 2   original_title         85855 non-null  object \n",
      " 3   year                   85855 non-null  object \n",
      " 4   date_published         85855 non-null  object \n",
      " 5   genre                  85855 non-null  object \n",
      " 6   duration               85855 non-null  int64  \n",
      " 7   country                85791 non-null  object \n",
      " 8   language               85022 non-null  object \n",
      " 9   director               85768 non-null  object \n",
      " 10  writer                 84283 non-null  object \n",
      " 11  production_company     81400 non-null  object \n",
      " 12  actors                 85786 non-null  object \n",
      " 13  description            83740 non-null  object \n",
      " 14  avg_vote               85855 non-null  float64\n",
      " 15  votes                  85855 non-null  int64  \n",
      " 16  budget                 23710 non-null  object \n",
      " 17  usa_gross_income       15326 non-null  object \n",
      " 18  worlwide_gross_income  31016 non-null  object \n",
      " 19  metascore              13305 non-null  float64\n",
      " 20  reviews_from_users     78258 non-null  float64\n",
      " 21  reviews_from_critics   74058 non-null  float64\n",
      "dtypes: float64(4), int64(2), object(16)\n",
      "memory usage: 14.4+ MB\n"
     ]
    }
   ],
   "source": [
    "df.info()"
   ]
  },
  {
   "cell_type": "code",
   "execution_count": 4,
   "id": "e339ab8e",
   "metadata": {},
   "outputs": [
    {
     "data": {
      "text/plain": [
       "array([1894, 1906, 1911, 1912, 1919, 1913, 1914, 1915, 1916, 1917, 1918,\n",
       "       1920, 1921, 1924, 1922, 1923, 1925, 1926, 1935, 1927, 1928, 1983,\n",
       "       1929, 1930, 1932, 1931, 1937, 1938, 1933, 1934, 1936, 1940, 1939,\n",
       "       1942, 1943, 1941, 1948, 1944, 2001, 1946, 1945, 1947, 1973, 1949,\n",
       "       1950, 1952, 1951, 1962, 1953, 1954, 1955, 1961, 1956, 1958, 1957,\n",
       "       1959, 1960, 1963, 1965, 1971, 1964, 1966, 1968, 1967, 1969, 1976,\n",
       "       1970, 1979, 1972, 1981, 1978, 2000, 1989, 1975, 1974, 1986, 1990,\n",
       "       2018, 1977, 1982, 1980, 1993, 1984, 1985, 1988, 1987, 2005, 1991,\n",
       "       2002, 1994, 1992, 1995, 2017, 1997, 1996, 2006, 1999, 1998, 2007,\n",
       "       2008, 2003, 2004, 2010, 2009, 2011, 2013, 2012, 2016, 2015, 2014,\n",
       "       2019, 2020, '2012', '2015', '2009', '2013', '2018', '2014', '2017',\n",
       "       '2011', '2016', '1981', '1975', '2010', '1984', '2007', '2006',\n",
       "       '2001', '2004', '1979', '2019', '1967', '1978', '2003', '2005',\n",
       "       '1969', '1990', '1983', '2002', '1996', '2008', '1995', '1999',\n",
       "       '1974', '1993', '1998', '1989', '2020', '1966', '1956', '1962',\n",
       "       '1985', '2000', '1971', '1970', '1986', '1930', '1976', '1982',\n",
       "       '1992', '1963', '1994', '1964', '1997', '1987', '1980',\n",
       "       'TV Movie 2019', '1988'], dtype=object)"
      ]
     },
     "execution_count": 4,
     "metadata": {},
     "output_type": "execute_result"
    }
   ],
   "source": [
    "# We noticed year isn't an int dtype, looking a the unique values\n",
    "# will help us spot the string here.\n",
    "df['year'].unique()"
   ]
  },
  {
   "cell_type": "code",
   "execution_count": 5,
   "id": "29591721",
   "metadata": {},
   "outputs": [],
   "source": [
    "# Now we found that, we change TV Movie 2019 to 2019\n",
    "# Change year Dtype to int\n",
    "mask = df['year'] == 'TV Movie 2019'\n",
    "df.loc[mask, 'year'] = 2019\n",
    "df['year'] = df['year'].astype(int)"
   ]
  },
  {
   "cell_type": "code",
   "execution_count": 6,
   "id": "1849109a",
   "metadata": {},
   "outputs": [
    {
     "data": {
      "text/plain": [
       "array(['1894-10-09', '1906-12-26', '1911-08-19', ..., '2020-10-22',\n",
       "       '2019-01-13', '2020-09-04'], dtype=object)"
      ]
     },
     "execution_count": 6,
     "metadata": {},
     "output_type": "execute_result"
    }
   ],
   "source": [
    "df['date_published'].unique()"
   ]
  },
  {
   "cell_type": "code",
   "execution_count": 7,
   "id": "3d18d453",
   "metadata": {},
   "outputs": [],
   "source": [
    "# Change \"TV Movie 2019\" to it's proper date\n",
    "mask = df['date_published'] == 'TV Movie 2019'\n",
    "df.loc[mask,'date_published'] = '2019-09-08'\n",
    "# Change date_published to datetime\n",
    "df['date_published'] = pd.to_datetime(df['date_published'], format=\"%Y-%m-%d\")"
   ]
  },
  {
   "cell_type": "code",
   "execution_count": 8,
   "id": "b2c33de1",
   "metadata": {},
   "outputs": [],
   "source": [
    "# removing strings from budget and converting it to int64\n",
    "df['budget'] = df['budget'].str.replace(r'\\D', '')\n",
    "df['budget'] = df['budget'].replace(np.nan, 0)\n",
    "df['budget'] = df['budget'].astype(np.longlong)"
   ]
  },
  {
   "cell_type": "code",
   "execution_count": 9,
   "id": "22f206bc",
   "metadata": {},
   "outputs": [
    {
     "name": "stdout",
     "output_type": "stream",
     "text": [
      "<class 'pandas.core.frame.DataFrame'>\n",
      "RangeIndex: 85855 entries, 0 to 85854\n",
      "Data columns (total 22 columns):\n",
      " #   Column                 Non-Null Count  Dtype         \n",
      "---  ------                 --------------  -----         \n",
      " 0   imdb_title_id          85855 non-null  object        \n",
      " 1   title                  85855 non-null  object        \n",
      " 2   original_title         85855 non-null  object        \n",
      " 3   year                   85855 non-null  int32         \n",
      " 4   date_published         85855 non-null  datetime64[ns]\n",
      " 5   genre                  85855 non-null  object        \n",
      " 6   duration               85855 non-null  int64         \n",
      " 7   country                85791 non-null  object        \n",
      " 8   language               85022 non-null  object        \n",
      " 9   director               85768 non-null  object        \n",
      " 10  writer                 84283 non-null  object        \n",
      " 11  production_company     81400 non-null  object        \n",
      " 12  actors                 85786 non-null  object        \n",
      " 13  description            83740 non-null  object        \n",
      " 14  avg_vote               85855 non-null  float64       \n",
      " 15  votes                  85855 non-null  int64         \n",
      " 16  budget                 85855 non-null  int64         \n",
      " 17  usa_gross_income       15326 non-null  object        \n",
      " 18  worlwide_gross_income  31016 non-null  object        \n",
      " 19  metascore              13305 non-null  float64       \n",
      " 20  reviews_from_users     78258 non-null  float64       \n",
      " 21  reviews_from_critics   74058 non-null  float64       \n",
      "dtypes: datetime64[ns](1), float64(4), int32(1), int64(3), object(13)\n",
      "memory usage: 14.1+ MB\n"
     ]
    }
   ],
   "source": [
    "df.info()"
   ]
  },
  {
   "cell_type": "code",
   "execution_count": 10,
   "id": "4b58ad74",
   "metadata": {},
   "outputs": [
    {
     "data": {
      "image/png": "[encoded data removed]",
      "text/plain": [
       "<Figure size 432x288 with 1 Axes>"
      ]
     },
     "metadata": {},
     "output_type": "display_data"
    }
   ],
   "source": [
    "# An overview of the majority of movies on the duration metric\n",
    "# 2h seems reasonable, I know I would be less likely to watch a 3 hours movie.\n",
    "sns.set(style=\"darkgrid\")\n",
    "sns.histplot(data=df['duration'], bins=20);"
   ]
  },
  {
   "cell_type": "code",
   "execution_count": 11,
   "id": "e0278909",
   "metadata": {},
   "outputs": [
    {
     "data": {
      "text/plain": [
       "240"
      ]
     },
     "execution_count": 11,
     "metadata": {},
     "output_type": "execute_result"
    }
   ],
   "source": [
    "# It seems we have an outliers here, let's find how many\n",
    "# observations we have for movies post 200 minutes.\n",
    "\n",
    "dur_mask = df['duration'] > 200\n",
    "dur_mask = df.loc[dur_mask]\n",
    "dur_mask['duration'].count()"
   ]
  },
  {
   "cell_type": "code",
   "execution_count": 12,
   "id": "fea4a091",
   "metadata": {},
   "outputs": [
    {
     "data": {
      "text/plain": [
       "(85615, 22)"
      ]
     },
     "execution_count": 12,
     "metadata": {},
     "output_type": "execute_result"
    }
   ],
   "source": [
    "# 240 of 85k observations is still less than 1%\n",
    "# We could drop these rows to have a more balanced view here.\n",
    "df = df.drop(df[df.duration > 200].index)\n",
    "df.shape"
   ]
  },
  {
   "cell_type": "code",
   "execution_count": 13,
   "id": "c1d1eebf",
   "metadata": {
    "scrolled": true
   },
   "outputs": [
    {
     "data": {
      "image/png": "[encoded data removed]",
      "text/plain": [
       "<Figure size 432x288 with 1 Axes>"
      ]
     },
     "metadata": {},
     "output_type": "display_data"
    }
   ],
   "source": [
    "# That's more like it.\n",
    "sns.set(style=\"darkgrid\")\n",
    "sns.histplot(data=df['duration'], bins=20);"
   ]
  },
  {
   "cell_type": "code",
   "execution_count": 14,
   "id": "faf6cce6",
   "metadata": {},
   "outputs": [],
   "source": [
    "# As we can see from the histogram that most movies\n",
    "# have a duration of 75 ~ 120 minutes."
   ]
  },
  {
   "cell_type": "code",
   "execution_count": 15,
   "id": "1551c4eb",
   "metadata": {},
   "outputs": [
    {
     "data": {
      "text/plain": [
       "imdb_title_id                0\n",
       "title                        0\n",
       "original_title               0\n",
       "year                         0\n",
       "date_published               0\n",
       "genre                        0\n",
       "duration                     0\n",
       "country                     64\n",
       "language                   825\n",
       "director                    85\n",
       "writer                    1563\n",
       "production_company        4439\n",
       "actors                      69\n",
       "description               2111\n",
       "avg_vote                     0\n",
       "votes                        0\n",
       "budget                       0\n",
       "usa_gross_income         70332\n",
       "worlwide_gross_income    54661\n",
       "metascore                72345\n",
       "reviews_from_users        7580\n",
       "reviews_from_critics     11761\n",
       "dtype: int64"
      ]
     },
     "execution_count": 15,
     "metadata": {},
     "output_type": "execute_result"
    }
   ],
   "source": [
    "# Overview of where the NaN values are.\n",
    "# We see here we have some in of the features we are concerned with here.\n",
    "# director - actors - description\n",
    "df.isna().sum()"
   ]
  },
  {
   "cell_type": "code",
   "execution_count": 16,
   "id": "306c7100",
   "metadata": {
    "scrolled": false
   },
   "outputs": [
    {
     "data": {
      "text/plain": [
       "<AxesSubplot:xlabel='count', ylabel='year'>"
      ]
     },
     "execution_count": 16,
     "metadata": {},
     "output_type": "execute_result"
    },
    {
     "data": {
      "image/png": "[encoded data removed]",
      "text/plain": [
       "<Figure size 864x720 with 1 Axes>"
      ]
     },
     "metadata": {},
     "output_type": "display_data"
    }
   ],
   "source": [
    "# Just for curiosity, let's look how many movies get released each year.\n",
    "plt.figure(figsize=(12,10))\n",
    "sns.set(style=\"darkgrid\")\n",
    "sns.countplot(y=\"year\", data=df, palette=\"Set2\", order=df['year'].value_counts().index[0:15])"
   ]
  },
  {
   "cell_type": "code",
   "execution_count": 17,
   "id": "8a7c77a9",
   "metadata": {},
   "outputs": [
    {
     "data": {
      "text/plain": [
       "0                    Romance\n",
       "1    Biography, Crime, Drama\n",
       "2                      Drama\n",
       "Name: genre, dtype: object"
      ]
     },
     "execution_count": 17,
     "metadata": {},
     "output_type": "execute_result"
    }
   ],
   "source": [
    "df.genre.head(3)"
   ]
  },
  {
   "cell_type": "code",
   "execution_count": 18,
   "id": "c8612c2a",
   "metadata": {
    "scrolled": true
   },
   "outputs": [],
   "source": [
    "# Let's look what is the most common genres in movies.\n",
    "# Since movies can have multiple genres, we have to make sure that \"Drama\" counted \n",
    "# each time whether when it's in \"Biography, Crime, Drama\" or simply \"Drama\".\n",
    "genres = df.assign(genres=df.genre.str.split(\", \")).explode('genres')"
   ]
  },
  {
   "cell_type": "code",
   "execution_count": 19,
   "id": "44847c92",
   "metadata": {
    "scrolled": false
   },
   "outputs": [
    {
     "data": {
      "text/plain": [
       "<AxesSubplot:xlabel='count', ylabel='genres'>"
      ]
     },
     "execution_count": 19,
     "metadata": {},
     "output_type": "execute_result"
    },
    {
     "data": {
      "image/png": "[encoded data removed]",
      "text/plain": [
       "<Figure size 864x720 with 1 Axes>"
      ]
     },
     "metadata": {},
     "output_type": "display_data"
    }
   ],
   "source": [
    "plt.figure(figsize=(12,10))\n",
    "sns.set(style=\"darkgrid\")\n",
    "sns.countplot(y=\"genres\", data=genres, palette=\"Set2\", order=genres['genres'].value_counts().index[0:15])"
   ]
  },
  {
   "cell_type": "code",
   "execution_count": 20,
   "id": "57e72c9a",
   "metadata": {},
   "outputs": [],
   "source": [
    "# Sort by number of votes to get the popular movies.\n",
    "df = df.sort_values(by=\"votes\",ascending=False)\n",
    "\n",
    "# Slicing the Data for easier processing - RIP RAM\n",
    "df = df.iloc[:40000]"
   ]
  },
  {
   "cell_type": "markdown",
   "id": "a2237eb9",
   "metadata": {},
   "source": [
    "# Finding correlations"
   ]
  },
  {
   "cell_type": "code",
   "execution_count": 21,
   "id": "61bb0f24",
   "metadata": {},
   "outputs": [
    {
     "data": {
      "text/html": [
       "<div>\n",
       "<style scoped>\n",
       "    .dataframe tbody tr th:only-of-type {\n",
       "        vertical-align: middle;\n",
       "    }\n",
       "\n",
       "    .dataframe tbody tr th {\n",
       "        vertical-align: top;\n",
       "    }\n",
       "\n",
       "    .dataframe thead th {\n",
       "        text-align: right;\n",
       "    }\n",
       "</style>\n",
       "<table border=\"1\" class=\"dataframe\">\n",
       "  <thead>\n",
       "    <tr style=\"text-align: right;\">\n",
       "      <th></th>\n",
       "      <th>duration</th>\n",
       "      <th>votes</th>\n",
       "    </tr>\n",
       "  </thead>\n",
       "  <tbody>\n",
       "    <tr>\n",
       "      <th>duration</th>\n",
       "      <td>1.000000</td>\n",
       "      <td>0.155892</td>\n",
       "    </tr>\n",
       "    <tr>\n",
       "      <th>votes</th>\n",
       "      <td>0.155892</td>\n",
       "      <td>1.000000</td>\n",
       "    </tr>\n",
       "  </tbody>\n",
       "</table>\n",
       "</div>"
      ],
      "text/plain": [
       "          duration     votes\n",
       "duration  1.000000  0.155892\n",
       "votes     0.155892  1.000000"
      ]
     },
     "execution_count": 21,
     "metadata": {},
     "output_type": "execute_result"
    }
   ],
   "source": [
    "# There is some correlations between the movie's duration\n",
    "# and the number of votes registered. # Don't forget we removed any movie\n",
    "# with more than 200 minutes, since they represented less than 1% of the whole data.\n",
    "df[['duration','votes']].corr()\n",
    "\n",
    "# There is a weak correlation here."
   ]
  },
  {
   "cell_type": "code",
   "execution_count": 22,
   "id": "860a82af",
   "metadata": {},
   "outputs": [
    {
     "data": {
      "text/html": [
       "<div>\n",
       "<style scoped>\n",
       "    .dataframe tbody tr th:only-of-type {\n",
       "        vertical-align: middle;\n",
       "    }\n",
       "\n",
       "    .dataframe tbody tr th {\n",
       "        vertical-align: top;\n",
       "    }\n",
       "\n",
       "    .dataframe thead th {\n",
       "        text-align: right;\n",
       "    }\n",
       "</style>\n",
       "<table border=\"1\" class=\"dataframe\">\n",
       "  <thead>\n",
       "    <tr style=\"text-align: right;\">\n",
       "      <th></th>\n",
       "      <th>budget</th>\n",
       "      <th>votes</th>\n",
       "    </tr>\n",
       "  </thead>\n",
       "  <tbody>\n",
       "    <tr>\n",
       "      <th>budget</th>\n",
       "      <td>1.00000</td>\n",
       "      <td>-0.00059</td>\n",
       "    </tr>\n",
       "    <tr>\n",
       "      <th>votes</th>\n",
       "      <td>-0.00059</td>\n",
       "      <td>1.00000</td>\n",
       "    </tr>\n",
       "  </tbody>\n",
       "</table>\n",
       "</div>"
      ],
      "text/plain": [
       "         budget    votes\n",
       "budget  1.00000 -0.00059\n",
       "votes  -0.00059  1.00000"
      ]
     },
     "execution_count": 22,
     "metadata": {},
     "output_type": "execute_result"
    }
   ],
   "source": [
    "# First, making sure we take care of missing values in budget by a mask.\n",
    "# Then looking if the budget of the movie affects the overall average vote.\n",
    "budget_mask = df['budget'] > 0\n",
    "budget = df.loc[budget_mask]\n",
    "budget[['budget','votes']].corr()\n",
    "\n",
    "# There's no correlation here."
   ]
  },
  {
   "cell_type": "code",
   "execution_count": 23,
   "id": "5d3ee729",
   "metadata": {},
   "outputs": [
    {
     "data": {
      "text/html": [
       "<div>\n",
       "<style scoped>\n",
       "    .dataframe tbody tr th:only-of-type {\n",
       "        vertical-align: middle;\n",
       "    }\n",
       "\n",
       "    .dataframe tbody tr th {\n",
       "        vertical-align: top;\n",
       "    }\n",
       "\n",
       "    .dataframe thead th {\n",
       "        text-align: right;\n",
       "    }\n",
       "</style>\n",
       "<table border=\"1\" class=\"dataframe\">\n",
       "  <thead>\n",
       "    <tr style=\"text-align: right;\">\n",
       "      <th></th>\n",
       "      <th>imdb_title_id</th>\n",
       "      <th>title</th>\n",
       "      <th>original_title</th>\n",
       "      <th>year</th>\n",
       "      <th>date_published</th>\n",
       "      <th>genre</th>\n",
       "      <th>duration</th>\n",
       "      <th>country</th>\n",
       "      <th>language</th>\n",
       "      <th>director</th>\n",
       "      <th>...</th>\n",
       "      <th>actors</th>\n",
       "      <th>description</th>\n",
       "      <th>avg_vote</th>\n",
       "      <th>votes</th>\n",
       "      <th>budget</th>\n",
       "      <th>usa_gross_income</th>\n",
       "      <th>worlwide_gross_income</th>\n",
       "      <th>metascore</th>\n",
       "      <th>reviews_from_users</th>\n",
       "      <th>reviews_from_critics</th>\n",
       "    </tr>\n",
       "  </thead>\n",
       "  <tbody>\n",
       "    <tr>\n",
       "      <th>28453</th>\n",
       "      <td>tt0111161</td>\n",
       "      <td>Le ali della libertà</td>\n",
       "      <td>The Shawshank Redemption</td>\n",
       "      <td>1994</td>\n",
       "      <td>1995-02-10</td>\n",
       "      <td>Drama</td>\n",
       "      <td>142</td>\n",
       "      <td>USA</td>\n",
       "      <td>English</td>\n",
       "      <td>Frank Darabont</td>\n",
       "      <td>...</td>\n",
       "      <td>Tim Robbins, Morgan Freeman, Bob Gunton, Willi...</td>\n",
       "      <td>Two imprisoned men bond over a number of years...</td>\n",
       "      <td>9.3</td>\n",
       "      <td>2278845</td>\n",
       "      <td>25000000</td>\n",
       "      <td>$ 28699976</td>\n",
       "      <td>$ 28815245</td>\n",
       "      <td>80.0</td>\n",
       "      <td>8232.0</td>\n",
       "      <td>164.0</td>\n",
       "    </tr>\n",
       "    <tr>\n",
       "      <th>48078</th>\n",
       "      <td>tt0468569</td>\n",
       "      <td>Il cavaliere oscuro</td>\n",
       "      <td>The Dark Knight</td>\n",
       "      <td>2008</td>\n",
       "      <td>2008-07-23</td>\n",
       "      <td>Action, Crime, Drama</td>\n",
       "      <td>152</td>\n",
       "      <td>USA, UK</td>\n",
       "      <td>English, Mandarin</td>\n",
       "      <td>Christopher Nolan</td>\n",
       "      <td>...</td>\n",
       "      <td>Christian Bale, Heath Ledger, Aaron Eckhart, M...</td>\n",
       "      <td>When the menace known as the Joker wreaks havo...</td>\n",
       "      <td>9.0</td>\n",
       "      <td>2241615</td>\n",
       "      <td>185000000</td>\n",
       "      <td>$ 535234033</td>\n",
       "      <td>$ 1005455211</td>\n",
       "      <td>84.0</td>\n",
       "      <td>6938.0</td>\n",
       "      <td>423.0</td>\n",
       "    </tr>\n",
       "    <tr>\n",
       "      <th>57475</th>\n",
       "      <td>tt1375666</td>\n",
       "      <td>Inception</td>\n",
       "      <td>Inception</td>\n",
       "      <td>2010</td>\n",
       "      <td>2010-09-24</td>\n",
       "      <td>Action, Adventure, Sci-Fi</td>\n",
       "      <td>148</td>\n",
       "      <td>USA, UK</td>\n",
       "      <td>English, Japanese, French</td>\n",
       "      <td>Christopher Nolan</td>\n",
       "      <td>...</td>\n",
       "      <td>Leonardo DiCaprio, Joseph Gordon-Levitt, Ellen...</td>\n",
       "      <td>A thief who steals corporate secrets through t...</td>\n",
       "      <td>8.8</td>\n",
       "      <td>2002816</td>\n",
       "      <td>160000000</td>\n",
       "      <td>$ 292576195</td>\n",
       "      <td>$ 869784991</td>\n",
       "      <td>74.0</td>\n",
       "      <td>3927.0</td>\n",
       "      <td>473.0</td>\n",
       "    </tr>\n",
       "  </tbody>\n",
       "</table>\n",
       "<p>3 rows × 22 columns</p>\n",
       "</div>"
      ],
      "text/plain": [
       "      imdb_title_id                 title            original_title  year  \\\n",
       "28453     tt0111161  Le ali della libertà  The Shawshank Redemption  1994   \n",
       "48078     tt0468569   Il cavaliere oscuro           The Dark Knight  2008   \n",
       "57475     tt1375666             Inception                 Inception  2010   \n",
       "\n",
       "      date_published                      genre  duration  country  \\\n",
       "28453     1995-02-10                      Drama       142      USA   \n",
       "48078     2008-07-23       Action, Crime, Drama       152  USA, UK   \n",
       "57475     2010-09-24  Action, Adventure, Sci-Fi       148  USA, UK   \n",
       "\n",
       "                        language           director  ...  \\\n",
       "28453                    English     Frank Darabont  ...   \n",
       "48078          English, Mandarin  Christopher Nolan  ...   \n",
       "57475  English, Japanese, French  Christopher Nolan  ...   \n",
       "\n",
       "                                                  actors  \\\n",
       "28453  Tim Robbins, Morgan Freeman, Bob Gunton, Willi...   \n",
       "48078  Christian Bale, Heath Ledger, Aaron Eckhart, M...   \n",
       "57475  Leonardo DiCaprio, Joseph Gordon-Levitt, Ellen...   \n",
       "\n",
       "                                             description avg_vote    votes  \\\n",
       "28453  Two imprisoned men bond over a number of years...      9.3  2278845   \n",
       "48078  When the menace known as the Joker wreaks havo...      9.0  2241615   \n",
       "57475  A thief who steals corporate secrets through t...      8.8  2002816   \n",
       "\n",
       "          budget  usa_gross_income  worlwide_gross_income metascore  \\\n",
       "28453   25000000        $ 28699976             $ 28815245      80.0   \n",
       "48078  185000000       $ 535234033           $ 1005455211      84.0   \n",
       "57475  160000000       $ 292576195            $ 869784991      74.0   \n",
       "\n",
       "      reviews_from_users  reviews_from_critics  \n",
       "28453             8232.0                 164.0  \n",
       "48078             6938.0                 423.0  \n",
       "57475             3927.0                 473.0  \n",
       "\n",
       "[3 rows x 22 columns]"
      ]
     },
     "execution_count": 23,
     "metadata": {},
     "output_type": "execute_result"
    }
   ],
   "source": [
    "df.head(3)"
   ]
  },
  {
   "cell_type": "code",
   "execution_count": 24,
   "id": "f5381f54",
   "metadata": {
    "scrolled": false
   },
   "outputs": [
    {
     "data": {
      "text/html": [
       "<div>\n",
       "<style scoped>\n",
       "    .dataframe tbody tr th:only-of-type {\n",
       "        vertical-align: middle;\n",
       "    }\n",
       "\n",
       "    .dataframe tbody tr th {\n",
       "        vertical-align: top;\n",
       "    }\n",
       "\n",
       "    .dataframe thead th {\n",
       "        text-align: right;\n",
       "    }\n",
       "</style>\n",
       "<table border=\"1\" class=\"dataframe\">\n",
       "  <thead>\n",
       "    <tr style=\"text-align: right;\">\n",
       "      <th></th>\n",
       "      <th>original_title</th>\n",
       "      <th>director</th>\n",
       "      <th>actors</th>\n",
       "      <th>description</th>\n",
       "      <th>genre</th>\n",
       "    </tr>\n",
       "  </thead>\n",
       "  <tbody>\n",
       "    <tr>\n",
       "      <th>28453</th>\n",
       "      <td>theshawshankredemption</td>\n",
       "      <td>frankdarabont</td>\n",
       "      <td>timrobbins,morganfreeman,bobgunton,williamsadl...</td>\n",
       "      <td>twoimprisonedmenbondoveranumberofyears,finding...</td>\n",
       "      <td>drama</td>\n",
       "    </tr>\n",
       "    <tr>\n",
       "      <th>48078</th>\n",
       "      <td>thedarkknight</td>\n",
       "      <td>christophernolan</td>\n",
       "      <td>christianbale,heathledger,aaroneckhart,michael...</td>\n",
       "      <td>whenthemenaceknownasthejokerwreakshavocandchao...</td>\n",
       "      <td>action,crime,drama</td>\n",
       "    </tr>\n",
       "    <tr>\n",
       "      <th>57475</th>\n",
       "      <td>inception</td>\n",
       "      <td>christophernolan</td>\n",
       "      <td>leonardodicaprio,josephgordon-levitt,ellenpage...</td>\n",
       "      <td>athiefwhostealscorporatesecretsthroughtheuseof...</td>\n",
       "      <td>action,adventure,sci-fi</td>\n",
       "    </tr>\n",
       "    <tr>\n",
       "      <th>32487</th>\n",
       "      <td>fightclub</td>\n",
       "      <td>davidfincher</td>\n",
       "      <td>edwardnorton,bradpitt,meatloaf,zachgrenier,ric...</td>\n",
       "      <td>aninsomniacofficeworkerandadevil-may-caresoapm...</td>\n",
       "      <td>drama</td>\n",
       "    </tr>\n",
       "    <tr>\n",
       "      <th>28381</th>\n",
       "      <td>pulpfiction</td>\n",
       "      <td>quentintarantino</td>\n",
       "      <td>timroth,amandaplummer,lauralovelace,johntravol...</td>\n",
       "      <td>thelivesoftwomobhitmen,aboxer,agangsterandhisw...</td>\n",
       "      <td>crime,drama</td>\n",
       "    </tr>\n",
       "  </tbody>\n",
       "</table>\n",
       "</div>"
      ],
      "text/plain": [
       "               original_title          director  \\\n",
       "28453  theshawshankredemption     frankdarabont   \n",
       "48078           thedarkknight  christophernolan   \n",
       "57475               inception  christophernolan   \n",
       "32487               fightclub      davidfincher   \n",
       "28381             pulpfiction  quentintarantino   \n",
       "\n",
       "                                                  actors  \\\n",
       "28453  timrobbins,morganfreeman,bobgunton,williamsadl...   \n",
       "48078  christianbale,heathledger,aaroneckhart,michael...   \n",
       "57475  leonardodicaprio,josephgordon-levitt,ellenpage...   \n",
       "32487  edwardnorton,bradpitt,meatloaf,zachgrenier,ric...   \n",
       "28381  timroth,amandaplummer,lauralovelace,johntravol...   \n",
       "\n",
       "                                             description  \\\n",
       "28453  twoimprisonedmenbondoveranumberofyears,finding...   \n",
       "48078  whenthemenaceknownasthejokerwreakshavocandchao...   \n",
       "57475  athiefwhostealscorporatesecretsthroughtheuseof...   \n",
       "32487  aninsomniacofficeworkerandadevil-may-caresoapm...   \n",
       "28381  thelivesoftwomobhitmen,aboxer,agangsterandhisw...   \n",
       "\n",
       "                         genre  \n",
       "28453                    drama  \n",
       "48078       action,crime,drama  \n",
       "57475  action,adventure,sci-fi  \n",
       "32487                    drama  \n",
       "28381              crime,drama  "
      ]
     },
     "execution_count": 24,
     "metadata": {},
     "output_type": "execute_result"
    }
   ],
   "source": [
    "# get rid of NaN\n",
    "df_na = df.fillna('')\n",
    "\n",
    "# Creating the necessary functions\n",
    "# make all words in lower case, and remove the spaces\n",
    "# for easier, and higher accuracy to find exact occurences.\n",
    "def lowerStr(x):\n",
    "    return str.lower(x.replace(\" \",''))\n",
    "\n",
    "# applying the function\n",
    "# First need to make our features, into a dataframe\n",
    "# Since apply works on DF\n",
    "finaldf = df_na[['original_title','director','actors', 'description','genre']]\n",
    "\n",
    "for feature in finaldf:\n",
    "    finaldf[feature] = finaldf[feature].apply(lowerStr)\n",
    "\n",
    "finaldf.head()"
   ]
  },
  {
   "cell_type": "code",
   "execution_count": 25,
   "id": "ad641db2",
   "metadata": {},
   "outputs": [],
   "source": [
    "# take a note of the description for later explaination\n",
    "# two imprisoned men bond over a number of years"
   ]
  },
  {
   "cell_type": "code",
   "execution_count": 26,
   "id": "1c3dda55",
   "metadata": {},
   "outputs": [
    {
     "data": {
      "text/plain": [
       "28453    theshawshankredemption frankdarabont timrobbin...\n",
       "48078    thedarkknight christophernolan christianbale,h...\n",
       "57475    inception christophernolan leonardodicaprio,jo...\n",
       "Name: concat, dtype: object"
      ]
     },
     "execution_count": 26,
     "metadata": {},
     "output_type": "execute_result"
    }
   ],
   "source": [
    "# creating the function for merging the columns\n",
    "def merge_features(df):\n",
    "    return df['original_title']+\" \"+df['director']+\" \"+df['actors']+\" \"+df['description']+\" \"+df['genre']\n",
    "\n",
    "finaldf['concat'] = finaldf.apply(merge_features, axis=1)\n",
    "finaldf['concat'].head(3)"
   ]
  },
  {
   "cell_type": "markdown",
   "id": "745ac515",
   "metadata": {},
   "source": [
    "# Modelling\n",
    "\n",
    "### Choosing the Model\n",
    "When it comes to finding similar items from a data, there's a few models we can use.\n",
    "___\n",
    "![cosine similarity, euclicean distance, manhattan](https://i.imgur.com/h39lZ2e.png)\n",
    "___\n",
    "Since calculating the distance between each item is not a priority here, I opted to use cosine-similarity. Getting the items from the same orientation would be enough here. Also, I need to work with text and count their occurences."
   ]
  },
  {
   "cell_type": "code",
   "execution_count": 27,
   "id": "8128bed5",
   "metadata": {},
   "outputs": [],
   "source": [
    "# Modelling\n",
    "from sklearn.feature_extraction.text import CountVectorizer\n",
    "from sklearn.metrics.pairwise import cosine_similarity"
   ]
  },
  {
   "cell_type": "code",
   "execution_count": 28,
   "id": "8859008a",
   "metadata": {},
   "outputs": [],
   "source": [
    "# Vectorize Text, and fitting\n",
    "cv = CountVectorizer() #init\n",
    "count_matrix = cv.fit_transform(finaldf['concat'])"
   ]
  },
  {
   "cell_type": "code",
   "execution_count": 29,
   "id": "fb240ae7",
   "metadata": {},
   "outputs": [],
   "source": [
    "# Finding the similarities\n",
    "cosine_sim = cosine_similarity(count_matrix, count_matrix)"
   ]
  },
  {
   "cell_type": "code",
   "execution_count": 30,
   "id": "33e6cbe7",
   "metadata": {},
   "outputs": [],
   "source": [
    "# Resetting the index, then making a new series with original title as index.\n",
    "finaldf = finaldf.reset_index()\n",
    "indices = pd.Series(finaldf.index, index=finaldf['original_title'])"
   ]
  },
  {
   "cell_type": "code",
   "execution_count": 31,
   "id": "318f086f",
   "metadata": {},
   "outputs": [],
   "source": [
    "def recommend(title, cosine_sim=cosine_sim):\n",
    "    title=title.replace(' ','').lower()\n",
    "    idx = indices[title]\n",
    "    #print(indices[title])\n",
    "    #print(idx)\n",
    "    sim_scores = list(enumerate(cosine_sim[idx]))\n",
    "    #print(sim_scores)\n",
    "    sim_scores = sorted(sim_scores, key=lambda x: x[1], reverse=True)\n",
    "    #print(sim_scores)\n",
    "    sim_scores = sim_scores[1:11]\n",
    "    \n",
    "    movie_indices = [i[0] for i in sim_scores]\n",
    "    #print(movie_indices)\n",
    "    return df['original_title'].iloc[movie_indices]"
   ]
  },
  {
   "cell_type": "code",
   "execution_count": 33,
   "id": "739a3b46",
   "metadata": {},
   "outputs": [
    {
     "data": {
      "text/plain": [
       "31096            Toy Story 2\n",
       "46673            Toy Story 3\n",
       "63599            Toy Story 4\n",
       "3274      Gulliver's Travels\n",
       "35865         Monsters, Inc.\n",
       "31209           A Bug's Life\n",
       "13818       Yellow Submarine\n",
       "69560    Oggy et les cafards\n",
       "81935                 Onward\n",
       "44479            Ratatouille\n",
       "Name: original_title, dtype: object"
      ]
     },
     "execution_count": 33,
     "metadata": {},
     "output_type": "execute_result"
    }
   ],
   "source": [
    "recommend('toY SToR Y')"
   ]
  },
  {
   "cell_type": "markdown",
   "id": "4c276b09",
   "metadata": {},
   "source": [
    "# Possible Improvements\n",
    "- Keywords instead of description.\n",
    "- Take Year of the into account."
   ]
  },
  {
   "cell_type": "code",
   "execution_count": null,
   "id": "f693b443",
   "metadata": {},
   "outputs": [],
   "source": []
  }
 ],
 "metadata": {
  "kernelspec": {
   "display_name": "Python 3",
   "language": "python",
   "name": "python3"
  },
  "language_info": {
   "codemirror_mode": {
    "name": "ipython",
    "version": 3
   },
   "file_extension": ".py",
   "mimetype": "text/x-python",
   "name": "python",
   "nbconvert_exporter": "python",
   "pygments_lexer": "ipython3",
   "version": "3.8.8"
  }
 },
 "nbformat": 4,
 "nbformat_minor": 5
}
